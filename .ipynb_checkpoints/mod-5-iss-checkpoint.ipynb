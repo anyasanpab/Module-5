{
 "cells": [
  {
   "cell_type": "code",
   "execution_count": 4,
   "id": "9ed5e08f-915b-4ccc-b815-f0727f34fe9a",
   "metadata": {},
   "outputs": [
    {
     "data": {
      "image/png": "[encoded data removed]",
      "text/plain": [
       "<Figure size 432x288 with 1 Axes>"
      ]
     },
     "metadata": {
      "needs_background": "light"
     },
     "output_type": "display_data"
    }
   ],
   "source": [
    "import requests\n",
    "import time\n",
    "import json\n",
    "from datetime import datetime, timedelta\n",
    "import csv \n",
    "import matplotlib.pyplot as plt\n",
    "import pandas as pd\n",
    "\n",
    "location_iss = []\n",
    "headers = requests.utils.default_headers()\n",
    "start_time = datetime.now()\n",
    "end_time = start_time + timedelta(minutes=30)\n",
    "\n",
    "while(end_time > datetime.now()):\n",
    "    request = requests.get(url='http://api.open-notify.org/iss-now.json', headers=headers)\n",
    "    inp = request.json() \n",
    "    location_iss.append(inp)\n",
    "    time.sleep(10)\n",
    "\n",
    "with open('location_iss.json', 'w') as f:\n",
    "    json.dump(location_iss,f)\n",
    "    \n",
    "\n",
    "\n",
    "with open('location_iss.json', 'r') as file:\n",
    "    data = json.load(file)\n",
    "    csvfile = open('location_iss.csv', 'w', newline = '')\n",
    "    with csvfile:\n",
    "        header = ['latitude', 'longitude']\n",
    "        writer = csv.DictWriter(csvfile,fieldnames = header)\n",
    "        writer.writeheader()\n",
    "        for item in data:\n",
    "            writer.writerow(item['iss_position'])\n",
    "            \n",
    "csvdf = pd.DataFrame(pd.read_csv('location_iss.csv'))\n",
    "      \n",
    "\n",
    "csvdf.plot(kind = \"scatter\", x=\"latitude\", y=\"longitude\", alpha=0.4, color =\"red\")\n",
    "plt.show()"
   ]
  },
  {
   "cell_type": "code",
   "execution_count": null,
   "id": "bb1c386c-0785-40cc-a2a0-5aa37ba25644",
   "metadata": {},
   "outputs": [],
   "source": []
  }
 ],
 "metadata": {
  "kernelspec": {
   "display_name": "Python 3 (ipykernel)",
   "language": "python",
   "name": "python3"
  },
  "language_info": {
   "codemirror_mode": {
    "name": "ipython",
    "version": 3
   },
   "file_extension": ".py",
   "mimetype": "text/x-python",
   "name": "python",
   "nbconvert_exporter": "python",
   "pygments_lexer": "ipython3",
   "version": "3.9.12"
  }
 },
 "nbformat": 4,
 "nbformat_minor": 5
}
